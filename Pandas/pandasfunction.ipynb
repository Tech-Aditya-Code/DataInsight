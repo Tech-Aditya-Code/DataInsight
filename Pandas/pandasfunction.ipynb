{
 "cells": [
  {
   "cell_type": "markdown",
   "id": "05a03e88-21b6-4342-9d02-6bc9e5f90b21",
   "metadata": {},
   "source": [
    "# pandas function"
   ]
  },
  {
   "cell_type": "code",
   "execution_count": 3,
   "id": "146cbf27-5e89-432c-9519-c8a9e5e9bf5c",
   "metadata": {},
   "outputs": [
    {
     "name": "stdout",
     "output_type": "stream",
     "text": [
      "      Name      Course   Fees   Address\n",
      "0   Aditya    Computer  75000   Bhandup\n",
      "1  Pranita  Electrical  40000     Parel\n",
      "2     Evan       Civil  30000     Dadar\n",
      "3     Kris   Computer   75000   Matunga\n",
      "4   Hritik       Civil  30000     Thane\n",
      "5      Sam  Electrical  40000   Dahisar\n",
      "6    Rajes    Computer  75000     Kurla\n",
      "7   Aditya       Civil  30000  Borivali\n",
      "8     Kris  Electrical  40000     Dadar\n",
      "9     Evan    Computer  75000    Bandra\n"
     ]
    }
   ],
   "source": [
    "import pandas as pd\n",
    "\n",
    "csv_1 = pd.read_csv(\"C:\\\\Users\\\\Aditya\\\\OneDrive\\\\Desktop\\\\demo1.csv\")\n",
    "\n",
    "print(csv_1)"
   ]
  },
  {
   "cell_type": "code",
   "execution_count": 4,
   "id": "4ab415f7-f8c1-4b4c-bf0a-4ac71d25995a",
   "metadata": {},
   "outputs": [
    {
     "data": {
      "text/plain": [
       "RangeIndex(start=0, stop=10, step=1)"
      ]
     },
     "execution_count": 4,
     "metadata": {},
     "output_type": "execute_result"
    }
   ],
   "source": [
    "csv_1.index"
   ]
  },
  {
   "cell_type": "code",
   "execution_count": 7,
   "id": "e898639c-54b8-4fcc-a74c-d8825738c20a",
   "metadata": {},
   "outputs": [
    {
     "data": {
      "text/plain": [
       "Index(['Name', 'Course', 'Fees', 'Address'], dtype='object')"
      ]
     },
     "execution_count": 7,
     "metadata": {},
     "output_type": "execute_result"
    }
   ],
   "source": [
    "csv_1.columns"
   ]
  },
  {
   "cell_type": "code",
   "execution_count": 8,
   "id": "3c497eb4-1d2e-43bc-8a95-5b1a10329447",
   "metadata": {},
   "outputs": [
    {
     "data": {
      "text/plain": [
       "<bound method NDFrame.describe of       Name      Course   Fees   Address\n",
       "0   Aditya    Computer  75000   Bhandup\n",
       "1  Pranita  Electrical  40000     Parel\n",
       "2     Evan       Civil  30000     Dadar\n",
       "3     Kris   Computer   75000   Matunga\n",
       "4   Hritik       Civil  30000     Thane\n",
       "5      Sam  Electrical  40000   Dahisar\n",
       "6    Rajes    Computer  75000     Kurla\n",
       "7   Aditya       Civil  30000  Borivali\n",
       "8     Kris  Electrical  40000     Dadar\n",
       "9     Evan    Computer  75000    Bandra>"
      ]
     },
     "execution_count": 8,
     "metadata": {},
     "output_type": "execute_result"
    }
   ],
   "source": [
    "csv_1.describe"
   ]
  },
  {
   "cell_type": "code",
   "execution_count": 9,
   "id": "4ac0ed4f-8596-4ec4-b5a9-30113912f945",
   "metadata": {},
   "outputs": [
    {
     "data": {
      "text/html": [
       "<div>\n",
       "<style scoped>\n",
       "    .dataframe tbody tr th:only-of-type {\n",
       "        vertical-align: middle;\n",
       "    }\n",
       "\n",
       "    .dataframe tbody tr th {\n",
       "        vertical-align: top;\n",
       "    }\n",
       "\n",
       "    .dataframe thead th {\n",
       "        text-align: right;\n",
       "    }\n",
       "</style>\n",
       "<table border=\"1\" class=\"dataframe\">\n",
       "  <thead>\n",
       "    <tr style=\"text-align: right;\">\n",
       "      <th></th>\n",
       "      <th>Name</th>\n",
       "      <th>Course</th>\n",
       "      <th>Fees</th>\n",
       "      <th>Address</th>\n",
       "    </tr>\n",
       "  </thead>\n",
       "  <tbody>\n",
       "    <tr>\n",
       "      <th>0</th>\n",
       "      <td>Aditya</td>\n",
       "      <td>Computer</td>\n",
       "      <td>75000</td>\n",
       "      <td>Bhandup</td>\n",
       "    </tr>\n",
       "    <tr>\n",
       "      <th>1</th>\n",
       "      <td>Pranita</td>\n",
       "      <td>Electrical</td>\n",
       "      <td>40000</td>\n",
       "      <td>Parel</td>\n",
       "    </tr>\n",
       "    <tr>\n",
       "      <th>2</th>\n",
       "      <td>Evan</td>\n",
       "      <td>Civil</td>\n",
       "      <td>30000</td>\n",
       "      <td>Dadar</td>\n",
       "    </tr>\n",
       "    <tr>\n",
       "      <th>3</th>\n",
       "      <td>Kris</td>\n",
       "      <td>Computer</td>\n",
       "      <td>75000</td>\n",
       "      <td>Matunga</td>\n",
       "    </tr>\n",
       "    <tr>\n",
       "      <th>4</th>\n",
       "      <td>Hritik</td>\n",
       "      <td>Civil</td>\n",
       "      <td>30000</td>\n",
       "      <td>Thane</td>\n",
       "    </tr>\n",
       "  </tbody>\n",
       "</table>\n",
       "</div>"
      ],
      "text/plain": [
       "      Name      Course   Fees  Address\n",
       "0   Aditya    Computer  75000  Bhandup\n",
       "1  Pranita  Electrical  40000    Parel\n",
       "2     Evan       Civil  30000    Dadar\n",
       "3     Kris   Computer   75000  Matunga\n",
       "4   Hritik       Civil  30000    Thane"
      ]
     },
     "execution_count": 9,
     "metadata": {},
     "output_type": "execute_result"
    }
   ],
   "source": [
    "csv_1.head(5)"
   ]
  },
  {
   "cell_type": "code",
   "execution_count": 11,
   "id": "8e78a1af-101b-462d-8823-1d3c8db2145f",
   "metadata": {},
   "outputs": [
    {
     "data": {
      "text/html": [
       "<div>\n",
       "<style scoped>\n",
       "    .dataframe tbody tr th:only-of-type {\n",
       "        vertical-align: middle;\n",
       "    }\n",
       "\n",
       "    .dataframe tbody tr th {\n",
       "        vertical-align: top;\n",
       "    }\n",
       "\n",
       "    .dataframe thead th {\n",
       "        text-align: right;\n",
       "    }\n",
       "</style>\n",
       "<table border=\"1\" class=\"dataframe\">\n",
       "  <thead>\n",
       "    <tr style=\"text-align: right;\">\n",
       "      <th></th>\n",
       "      <th>Name</th>\n",
       "      <th>Course</th>\n",
       "      <th>Fees</th>\n",
       "      <th>Address</th>\n",
       "    </tr>\n",
       "  </thead>\n",
       "  <tbody>\n",
       "    <tr>\n",
       "      <th>8</th>\n",
       "      <td>Kris</td>\n",
       "      <td>Electrical</td>\n",
       "      <td>40000</td>\n",
       "      <td>Dadar</td>\n",
       "    </tr>\n",
       "    <tr>\n",
       "      <th>9</th>\n",
       "      <td>Evan</td>\n",
       "      <td>Computer</td>\n",
       "      <td>75000</td>\n",
       "      <td>Bandra</td>\n",
       "    </tr>\n",
       "  </tbody>\n",
       "</table>\n",
       "</div>"
      ],
      "text/plain": [
       "   Name      Course   Fees Address\n",
       "8  Kris  Electrical  40000   Dadar\n",
       "9  Evan    Computer  75000  Bandra"
      ]
     },
     "execution_count": 11,
     "metadata": {},
     "output_type": "execute_result"
    }
   ],
   "source": [
    "csv_1.tail(2)"
   ]
  },
  {
   "cell_type": "code",
   "execution_count": 15,
   "id": "184d0a39-713c-46d2-861d-a6f84e30474d",
   "metadata": {},
   "outputs": [
    {
     "data": {
      "text/html": [
       "<div>\n",
       "<style scoped>\n",
       "    .dataframe tbody tr th:only-of-type {\n",
       "        vertical-align: middle;\n",
       "    }\n",
       "\n",
       "    .dataframe tbody tr th {\n",
       "        vertical-align: top;\n",
       "    }\n",
       "\n",
       "    .dataframe thead th {\n",
       "        text-align: right;\n",
       "    }\n",
       "</style>\n",
       "<table border=\"1\" class=\"dataframe\">\n",
       "  <thead>\n",
       "    <tr style=\"text-align: right;\">\n",
       "      <th></th>\n",
       "      <th>Name</th>\n",
       "      <th>Course</th>\n",
       "      <th>Fees</th>\n",
       "      <th>Address</th>\n",
       "    </tr>\n",
       "  </thead>\n",
       "  <tbody>\n",
       "    <tr>\n",
       "      <th>2</th>\n",
       "      <td>Evan</td>\n",
       "      <td>Civil</td>\n",
       "      <td>30000</td>\n",
       "      <td>Dadar</td>\n",
       "    </tr>\n",
       "    <tr>\n",
       "      <th>3</th>\n",
       "      <td>Kris</td>\n",
       "      <td>Computer</td>\n",
       "      <td>75000</td>\n",
       "      <td>Matunga</td>\n",
       "    </tr>\n",
       "    <tr>\n",
       "      <th>4</th>\n",
       "      <td>Hritik</td>\n",
       "      <td>Civil</td>\n",
       "      <td>30000</td>\n",
       "      <td>Thane</td>\n",
       "    </tr>\n",
       "  </tbody>\n",
       "</table>\n",
       "</div>"
      ],
      "text/plain": [
       "     Name     Course   Fees  Address\n",
       "2    Evan      Civil  30000    Dadar\n",
       "3    Kris  Computer   75000  Matunga\n",
       "4  Hritik      Civil  30000    Thane"
      ]
     },
     "execution_count": 15,
     "metadata": {},
     "output_type": "execute_result"
    }
   ],
   "source": [
    "csv_1[2:5]"
   ]
  },
  {
   "cell_type": "code",
   "execution_count": 16,
   "id": "8c110260-0ac1-44e2-a82b-6ab4054d82fa",
   "metadata": {},
   "outputs": [
    {
     "name": "stdout",
     "output_type": "stream",
     "text": [
      "<class 'pandas.core.frame.DataFrame'>\n"
     ]
    }
   ],
   "source": [
    "print(type(csv_1))"
   ]
  },
  {
   "cell_type": "code",
   "execution_count": 17,
   "id": "190b6853-c2bf-4773-8c39-ad7e30246b3f",
   "metadata": {},
   "outputs": [
    {
     "data": {
      "text/plain": [
       "<NumpyExtensionArray>\n",
       "[0, 1, 2, 3, 4, 5, 6, 7, 8, 9]\n",
       "Length: 10, dtype: int64"
      ]
     },
     "execution_count": 17,
     "metadata": {},
     "output_type": "execute_result"
    }
   ],
   "source": [
    "csv_1.index.array"
   ]
  },
  {
   "cell_type": "code",
   "execution_count": 18,
   "id": "0cff280c-3f2a-4e5a-814e-52cca6f3460d",
   "metadata": {},
   "outputs": [
    {
     "data": {
      "text/plain": [
       "array([['Aditya', 'Computer', 75000, 'Bhandup'],\n",
       "       ['Pranita', 'Electrical', 40000, 'Parel'],\n",
       "       ['Evan', 'Civil', 30000, 'Dadar'],\n",
       "       ['Kris', 'Computer ', 75000, 'Matunga'],\n",
       "       ['Hritik', 'Civil', 30000, 'Thane'],\n",
       "       ['Sam', 'Electrical', 40000, 'Dahisar'],\n",
       "       ['Rajes', 'Computer', 75000, 'Kurla'],\n",
       "       ['Aditya', 'Civil', 30000, 'Borivali'],\n",
       "       ['Kris', 'Electrical', 40000, 'Dadar'],\n",
       "       ['Evan', 'Computer', 75000, 'Bandra']], dtype=object)"
      ]
     },
     "execution_count": 18,
     "metadata": {},
     "output_type": "execute_result"
    }
   ],
   "source": [
    "csv_1.to_numpy()"
   ]
  },
  {
   "cell_type": "code",
   "execution_count": 20,
   "id": "14d756cb-c94a-4561-92f1-4288d5c9b654",
   "metadata": {},
   "outputs": [
    {
     "name": "stdout",
     "output_type": "stream",
     "text": [
      "[['Aditya' 'Computer' 75000 'Bhandup']\n",
      " ['Pranita' 'Electrical' 40000 'Parel']\n",
      " ['Evan' 'Civil' 30000 'Dadar']\n",
      " ['Kris' 'Computer ' 75000 'Matunga']\n",
      " ['Hritik' 'Civil' 30000 'Thane']\n",
      " ['Sam' 'Electrical' 40000 'Dahisar']\n",
      " ['Rajes' 'Computer' 75000 'Kurla']\n",
      " ['Aditya' 'Civil' 30000 'Borivali']\n",
      " ['Kris' 'Electrical' 40000 'Dadar']\n",
      " ['Evan' 'Computer' 75000 'Bandra']]\n"
     ]
    }
   ],
   "source": [
    "import numpy as np\n",
    "\n",
    "v = np.asarray(csv_1)\n",
    "\n",
    "print(v)"
   ]
  },
  {
   "cell_type": "code",
   "execution_count": 21,
   "id": "40dc93bf-4177-48f8-ba18-651c12fcc618",
   "metadata": {},
   "outputs": [
    {
     "data": {
      "text/html": [
       "<div>\n",
       "<style scoped>\n",
       "    .dataframe tbody tr th:only-of-type {\n",
       "        vertical-align: middle;\n",
       "    }\n",
       "\n",
       "    .dataframe tbody tr th {\n",
       "        vertical-align: top;\n",
       "    }\n",
       "\n",
       "    .dataframe thead th {\n",
       "        text-align: right;\n",
       "    }\n",
       "</style>\n",
       "<table border=\"1\" class=\"dataframe\">\n",
       "  <thead>\n",
       "    <tr style=\"text-align: right;\">\n",
       "      <th></th>\n",
       "      <th>Name</th>\n",
       "      <th>Course</th>\n",
       "      <th>Fees</th>\n",
       "      <th>Address</th>\n",
       "    </tr>\n",
       "  </thead>\n",
       "  <tbody>\n",
       "    <tr>\n",
       "      <th>9</th>\n",
       "      <td>Evan</td>\n",
       "      <td>Computer</td>\n",
       "      <td>75000</td>\n",
       "      <td>Bandra</td>\n",
       "    </tr>\n",
       "    <tr>\n",
       "      <th>8</th>\n",
       "      <td>Kris</td>\n",
       "      <td>Electrical</td>\n",
       "      <td>40000</td>\n",
       "      <td>Dadar</td>\n",
       "    </tr>\n",
       "    <tr>\n",
       "      <th>7</th>\n",
       "      <td>Aditya</td>\n",
       "      <td>Civil</td>\n",
       "      <td>30000</td>\n",
       "      <td>Borivali</td>\n",
       "    </tr>\n",
       "    <tr>\n",
       "      <th>6</th>\n",
       "      <td>Rajes</td>\n",
       "      <td>Computer</td>\n",
       "      <td>75000</td>\n",
       "      <td>Kurla</td>\n",
       "    </tr>\n",
       "    <tr>\n",
       "      <th>5</th>\n",
       "      <td>Sam</td>\n",
       "      <td>Electrical</td>\n",
       "      <td>40000</td>\n",
       "      <td>Dahisar</td>\n",
       "    </tr>\n",
       "    <tr>\n",
       "      <th>4</th>\n",
       "      <td>Hritik</td>\n",
       "      <td>Civil</td>\n",
       "      <td>30000</td>\n",
       "      <td>Thane</td>\n",
       "    </tr>\n",
       "    <tr>\n",
       "      <th>3</th>\n",
       "      <td>Kris</td>\n",
       "      <td>Computer</td>\n",
       "      <td>75000</td>\n",
       "      <td>Matunga</td>\n",
       "    </tr>\n",
       "    <tr>\n",
       "      <th>2</th>\n",
       "      <td>Evan</td>\n",
       "      <td>Civil</td>\n",
       "      <td>30000</td>\n",
       "      <td>Dadar</td>\n",
       "    </tr>\n",
       "    <tr>\n",
       "      <th>1</th>\n",
       "      <td>Pranita</td>\n",
       "      <td>Electrical</td>\n",
       "      <td>40000</td>\n",
       "      <td>Parel</td>\n",
       "    </tr>\n",
       "    <tr>\n",
       "      <th>0</th>\n",
       "      <td>Aditya</td>\n",
       "      <td>Computer</td>\n",
       "      <td>75000</td>\n",
       "      <td>Bhandup</td>\n",
       "    </tr>\n",
       "  </tbody>\n",
       "</table>\n",
       "</div>"
      ],
      "text/plain": [
       "      Name      Course   Fees   Address\n",
       "9     Evan    Computer  75000    Bandra\n",
       "8     Kris  Electrical  40000     Dadar\n",
       "7   Aditya       Civil  30000  Borivali\n",
       "6    Rajes    Computer  75000     Kurla\n",
       "5      Sam  Electrical  40000   Dahisar\n",
       "4   Hritik       Civil  30000     Thane\n",
       "3     Kris   Computer   75000   Matunga\n",
       "2     Evan       Civil  30000     Dadar\n",
       "1  Pranita  Electrical  40000     Parel\n",
       "0   Aditya    Computer  75000   Bhandup"
      ]
     },
     "execution_count": 21,
     "metadata": {},
     "output_type": "execute_result"
    }
   ],
   "source": [
    "csv_1.sort_index(axis=0, ascending=False)\n"
   ]
  },
  {
   "cell_type": "code",
   "execution_count": 24,
   "id": "b2098af2-813c-4c6d-9f8e-cbf4a7968b23",
   "metadata": {},
   "outputs": [
    {
     "data": {
      "text/html": [
       "<div>\n",
       "<style scoped>\n",
       "    .dataframe tbody tr th:only-of-type {\n",
       "        vertical-align: middle;\n",
       "    }\n",
       "\n",
       "    .dataframe tbody tr th {\n",
       "        vertical-align: top;\n",
       "    }\n",
       "\n",
       "    .dataframe thead th {\n",
       "        text-align: right;\n",
       "    }\n",
       "</style>\n",
       "<table border=\"1\" class=\"dataframe\">\n",
       "  <thead>\n",
       "    <tr style=\"text-align: right;\">\n",
       "      <th></th>\n",
       "      <th>Name</th>\n",
       "      <th>Course</th>\n",
       "      <th>Fees</th>\n",
       "      <th>Address</th>\n",
       "    </tr>\n",
       "  </thead>\n",
       "  <tbody>\n",
       "    <tr>\n",
       "      <th>0</th>\n",
       "      <td>Adi</td>\n",
       "      <td>Computer</td>\n",
       "      <td>75000</td>\n",
       "      <td>Bhandup</td>\n",
       "    </tr>\n",
       "    <tr>\n",
       "      <th>1</th>\n",
       "      <td>Pranita</td>\n",
       "      <td>Electrical</td>\n",
       "      <td>40000</td>\n",
       "      <td>Parel</td>\n",
       "    </tr>\n",
       "    <tr>\n",
       "      <th>2</th>\n",
       "      <td>Evan</td>\n",
       "      <td>Civil</td>\n",
       "      <td>30000</td>\n",
       "      <td>Dadar</td>\n",
       "    </tr>\n",
       "    <tr>\n",
       "      <th>3</th>\n",
       "      <td>Kris</td>\n",
       "      <td>Computer</td>\n",
       "      <td>75000</td>\n",
       "      <td>Matunga</td>\n",
       "    </tr>\n",
       "    <tr>\n",
       "      <th>4</th>\n",
       "      <td>Hritik</td>\n",
       "      <td>Civil</td>\n",
       "      <td>30000</td>\n",
       "      <td>Thane</td>\n",
       "    </tr>\n",
       "    <tr>\n",
       "      <th>5</th>\n",
       "      <td>Sam</td>\n",
       "      <td>Electrical</td>\n",
       "      <td>40000</td>\n",
       "      <td>Dahisar</td>\n",
       "    </tr>\n",
       "    <tr>\n",
       "      <th>6</th>\n",
       "      <td>Rajes</td>\n",
       "      <td>Computer</td>\n",
       "      <td>75000</td>\n",
       "      <td>Kurla</td>\n",
       "    </tr>\n",
       "    <tr>\n",
       "      <th>7</th>\n",
       "      <td>Aditya</td>\n",
       "      <td>Civil</td>\n",
       "      <td>30000</td>\n",
       "      <td>Borivali</td>\n",
       "    </tr>\n",
       "    <tr>\n",
       "      <th>8</th>\n",
       "      <td>Kris</td>\n",
       "      <td>Electrical</td>\n",
       "      <td>40000</td>\n",
       "      <td>Dadar</td>\n",
       "    </tr>\n",
       "    <tr>\n",
       "      <th>9</th>\n",
       "      <td>Evan</td>\n",
       "      <td>Computer</td>\n",
       "      <td>75000</td>\n",
       "      <td>Bandra</td>\n",
       "    </tr>\n",
       "  </tbody>\n",
       "</table>\n",
       "</div>"
      ],
      "text/plain": [
       "      Name      Course   Fees   Address\n",
       "0      Adi    Computer  75000   Bhandup\n",
       "1  Pranita  Electrical  40000     Parel\n",
       "2     Evan       Civil  30000     Dadar\n",
       "3     Kris   Computer   75000   Matunga\n",
       "4   Hritik       Civil  30000     Thane\n",
       "5      Sam  Electrical  40000   Dahisar\n",
       "6    Rajes    Computer  75000     Kurla\n",
       "7   Aditya       Civil  30000  Borivali\n",
       "8     Kris  Electrical  40000     Dadar\n",
       "9     Evan    Computer  75000    Bandra"
      ]
     },
     "execution_count": 24,
     "metadata": {},
     "output_type": "execute_result"
    }
   ],
   "source": [
    "csv_1.loc[0,\"Name\"] = \"Adi\"\n",
    "csv_1"
   ]
  },
  {
   "cell_type": "code",
   "execution_count": 30,
   "id": "45e9a5e7-4bad-4ac9-a63a-d2c75709ba50",
   "metadata": {},
   "outputs": [
    {
     "data": {
      "text/html": [
       "<div>\n",
       "<style scoped>\n",
       "    .dataframe tbody tr th:only-of-type {\n",
       "        vertical-align: middle;\n",
       "    }\n",
       "\n",
       "    .dataframe tbody tr th {\n",
       "        vertical-align: top;\n",
       "    }\n",
       "\n",
       "    .dataframe thead th {\n",
       "        text-align: right;\n",
       "    }\n",
       "</style>\n",
       "<table border=\"1\" class=\"dataframe\">\n",
       "  <thead>\n",
       "    <tr style=\"text-align: right;\">\n",
       "      <th></th>\n",
       "      <th>Name</th>\n",
       "      <th>Address</th>\n",
       "    </tr>\n",
       "  </thead>\n",
       "  <tbody>\n",
       "    <tr>\n",
       "      <th>2</th>\n",
       "      <td>Evan</td>\n",
       "      <td>Dadar</td>\n",
       "    </tr>\n",
       "    <tr>\n",
       "      <th>3</th>\n",
       "      <td>Kris</td>\n",
       "      <td>Matunga</td>\n",
       "    </tr>\n",
       "  </tbody>\n",
       "</table>\n",
       "</div>"
      ],
      "text/plain": [
       "   Name  Address\n",
       "2  Evan    Dadar\n",
       "3  Kris  Matunga"
      ]
     },
     "execution_count": 30,
     "metadata": {},
     "output_type": "execute_result"
    }
   ],
   "source": [
    "csv_1.loc[[2,3],[\"Name\",\"Address\"]]"
   ]
  },
  {
   "cell_type": "code",
   "execution_count": 32,
   "id": "41997630-5b08-43d0-931d-f911437cc4b6",
   "metadata": {},
   "outputs": [
    {
     "data": {
      "text/plain": [
       "75000"
      ]
     },
     "execution_count": 32,
     "metadata": {},
     "output_type": "execute_result"
    }
   ],
   "source": [
    "csv_1.iloc[0,2]"
   ]
  },
  {
   "cell_type": "code",
   "execution_count": 33,
   "id": "fc7bf52f-9319-49a1-a1ac-31e424f91b37",
   "metadata": {},
   "outputs": [
    {
     "data": {
      "text/html": [
       "<div>\n",
       "<style scoped>\n",
       "    .dataframe tbody tr th:only-of-type {\n",
       "        vertical-align: middle;\n",
       "    }\n",
       "\n",
       "    .dataframe tbody tr th {\n",
       "        vertical-align: top;\n",
       "    }\n",
       "\n",
       "    .dataframe thead th {\n",
       "        text-align: right;\n",
       "    }\n",
       "</style>\n",
       "<table border=\"1\" class=\"dataframe\">\n",
       "  <thead>\n",
       "    <tr style=\"text-align: right;\">\n",
       "      <th></th>\n",
       "      <th>Name</th>\n",
       "      <th>Fees</th>\n",
       "      <th>Address</th>\n",
       "    </tr>\n",
       "  </thead>\n",
       "  <tbody>\n",
       "    <tr>\n",
       "      <th>0</th>\n",
       "      <td>Adi</td>\n",
       "      <td>75000</td>\n",
       "      <td>Bhandup</td>\n",
       "    </tr>\n",
       "    <tr>\n",
       "      <th>1</th>\n",
       "      <td>Pranita</td>\n",
       "      <td>40000</td>\n",
       "      <td>Parel</td>\n",
       "    </tr>\n",
       "    <tr>\n",
       "      <th>2</th>\n",
       "      <td>Evan</td>\n",
       "      <td>30000</td>\n",
       "      <td>Dadar</td>\n",
       "    </tr>\n",
       "    <tr>\n",
       "      <th>3</th>\n",
       "      <td>Kris</td>\n",
       "      <td>75000</td>\n",
       "      <td>Matunga</td>\n",
       "    </tr>\n",
       "    <tr>\n",
       "      <th>4</th>\n",
       "      <td>Hritik</td>\n",
       "      <td>30000</td>\n",
       "      <td>Thane</td>\n",
       "    </tr>\n",
       "    <tr>\n",
       "      <th>5</th>\n",
       "      <td>Sam</td>\n",
       "      <td>40000</td>\n",
       "      <td>Dahisar</td>\n",
       "    </tr>\n",
       "    <tr>\n",
       "      <th>6</th>\n",
       "      <td>Rajes</td>\n",
       "      <td>75000</td>\n",
       "      <td>Kurla</td>\n",
       "    </tr>\n",
       "    <tr>\n",
       "      <th>7</th>\n",
       "      <td>Aditya</td>\n",
       "      <td>30000</td>\n",
       "      <td>Borivali</td>\n",
       "    </tr>\n",
       "    <tr>\n",
       "      <th>8</th>\n",
       "      <td>Kris</td>\n",
       "      <td>40000</td>\n",
       "      <td>Dadar</td>\n",
       "    </tr>\n",
       "    <tr>\n",
       "      <th>9</th>\n",
       "      <td>Evan</td>\n",
       "      <td>75000</td>\n",
       "      <td>Bandra</td>\n",
       "    </tr>\n",
       "  </tbody>\n",
       "</table>\n",
       "</div>"
      ],
      "text/plain": [
       "      Name   Fees   Address\n",
       "0      Adi  75000   Bhandup\n",
       "1  Pranita  40000     Parel\n",
       "2     Evan  30000     Dadar\n",
       "3     Kris  75000   Matunga\n",
       "4   Hritik  30000     Thane\n",
       "5      Sam  40000   Dahisar\n",
       "6    Rajes  75000     Kurla\n",
       "7   Aditya  30000  Borivali\n",
       "8     Kris  40000     Dadar\n",
       "9     Evan  75000    Bandra"
      ]
     },
     "execution_count": 33,
     "metadata": {},
     "output_type": "execute_result"
    }
   ],
   "source": [
    "csv_1.drop(\"Course\", axis=1)"
   ]
  },
  {
   "cell_type": "code",
   "execution_count": 34,
   "id": "b216dea5-98ad-4725-89fe-9047c2055708",
   "metadata": {},
   "outputs": [
    {
     "data": {
      "text/html": [
       "<div>\n",
       "<style scoped>\n",
       "    .dataframe tbody tr th:only-of-type {\n",
       "        vertical-align: middle;\n",
       "    }\n",
       "\n",
       "    .dataframe tbody tr th {\n",
       "        vertical-align: top;\n",
       "    }\n",
       "\n",
       "    .dataframe thead th {\n",
       "        text-align: right;\n",
       "    }\n",
       "</style>\n",
       "<table border=\"1\" class=\"dataframe\">\n",
       "  <thead>\n",
       "    <tr style=\"text-align: right;\">\n",
       "      <th></th>\n",
       "      <th>Name</th>\n",
       "      <th>Course</th>\n",
       "      <th>Fees</th>\n",
       "      <th>Address</th>\n",
       "    </tr>\n",
       "  </thead>\n",
       "  <tbody>\n",
       "    <tr>\n",
       "      <th>1</th>\n",
       "      <td>Pranita</td>\n",
       "      <td>Electrical</td>\n",
       "      <td>40000</td>\n",
       "      <td>Parel</td>\n",
       "    </tr>\n",
       "    <tr>\n",
       "      <th>2</th>\n",
       "      <td>Evan</td>\n",
       "      <td>Civil</td>\n",
       "      <td>30000</td>\n",
       "      <td>Dadar</td>\n",
       "    </tr>\n",
       "    <tr>\n",
       "      <th>3</th>\n",
       "      <td>Kris</td>\n",
       "      <td>Computer</td>\n",
       "      <td>75000</td>\n",
       "      <td>Matunga</td>\n",
       "    </tr>\n",
       "    <tr>\n",
       "      <th>4</th>\n",
       "      <td>Hritik</td>\n",
       "      <td>Civil</td>\n",
       "      <td>30000</td>\n",
       "      <td>Thane</td>\n",
       "    </tr>\n",
       "    <tr>\n",
       "      <th>5</th>\n",
       "      <td>Sam</td>\n",
       "      <td>Electrical</td>\n",
       "      <td>40000</td>\n",
       "      <td>Dahisar</td>\n",
       "    </tr>\n",
       "    <tr>\n",
       "      <th>6</th>\n",
       "      <td>Rajes</td>\n",
       "      <td>Computer</td>\n",
       "      <td>75000</td>\n",
       "      <td>Kurla</td>\n",
       "    </tr>\n",
       "    <tr>\n",
       "      <th>7</th>\n",
       "      <td>Aditya</td>\n",
       "      <td>Civil</td>\n",
       "      <td>30000</td>\n",
       "      <td>Borivali</td>\n",
       "    </tr>\n",
       "    <tr>\n",
       "      <th>8</th>\n",
       "      <td>Kris</td>\n",
       "      <td>Electrical</td>\n",
       "      <td>40000</td>\n",
       "      <td>Dadar</td>\n",
       "    </tr>\n",
       "    <tr>\n",
       "      <th>9</th>\n",
       "      <td>Evan</td>\n",
       "      <td>Computer</td>\n",
       "      <td>75000</td>\n",
       "      <td>Bandra</td>\n",
       "    </tr>\n",
       "  </tbody>\n",
       "</table>\n",
       "</div>"
      ],
      "text/plain": [
       "      Name      Course   Fees   Address\n",
       "1  Pranita  Electrical  40000     Parel\n",
       "2     Evan       Civil  30000     Dadar\n",
       "3     Kris   Computer   75000   Matunga\n",
       "4   Hritik       Civil  30000     Thane\n",
       "5      Sam  Electrical  40000   Dahisar\n",
       "6    Rajes    Computer  75000     Kurla\n",
       "7   Aditya       Civil  30000  Borivali\n",
       "8     Kris  Electrical  40000     Dadar\n",
       "9     Evan    Computer  75000    Bandra"
      ]
     },
     "execution_count": 34,
     "metadata": {},
     "output_type": "execute_result"
    }
   ],
   "source": [
    "csv_1.drop(0, axis=0)"
   ]
  },
  {
   "cell_type": "code",
   "execution_count": null,
   "id": "6da0fa1b-5ee2-47c8-999d-0ff960faebdb",
   "metadata": {},
   "outputs": [],
   "source": []
  }
 ],
 "metadata": {
  "kernelspec": {
   "display_name": "Python 3 (ipykernel)",
   "language": "python",
   "name": "python3"
  },
  "language_info": {
   "codemirror_mode": {
    "name": "ipython",
    "version": 3
   },
   "file_extension": ".py",
   "mimetype": "text/x-python",
   "name": "python",
   "nbconvert_exporter": "python",
   "pygments_lexer": "ipython3",
   "version": "3.12.7"
  }
 },
 "nbformat": 4,
 "nbformat_minor": 5
}
