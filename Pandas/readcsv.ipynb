{
 "cells": [
  {
   "cell_type": "code",
   "execution_count": 2,
   "id": "df02de71-af42-41f4-b407-8ac29d27f8fa",
   "metadata": {},
   "outputs": [],
   "source": [
    "# read csv"
   ]
  },
  {
   "cell_type": "code",
   "execution_count": 59,
   "id": "cdd71f74-988b-4d0f-bb28-d067a998fb84",
   "metadata": {},
   "outputs": [
    {
     "name": "stdout",
     "output_type": "stream",
     "text": [
      "      Name      Course   Address\n",
      "0   Aditya    Computer   Bhandup\n",
      "1  Pranita  Electrical     Parel\n",
      "2     Evan       Civil     Dadar\n",
      "3     Kris   Computer    Matunga\n",
      "4   Hritik       Civil     Thane\n",
      "5      Sam  Electrical   Dahisar\n",
      "6    Rajes    Computer     Kurla\n",
      "7   Aditya       Civil  Borivali\n",
      "8     Kris  Electrical     Dadar\n",
      "9     Evan    Computer    Bandra\n"
     ]
    }
   ],
   "source": [
    "import pandas as pd\n",
    "\n",
    "csv_1 = pd.read_csv(\"C:\\\\Users\\\\Aditya\\\\OneDrive\\\\Desktop\\\\demo1.csv\")\n",
    "\n",
    "print(csv_1)"
   ]
  },
  {
   "cell_type": "code",
   "execution_count": 13,
   "id": "2a67b331-5b6a-45e2-a70c-57123e0e2b3e",
   "metadata": {},
   "outputs": [
    {
     "name": "stdout",
     "output_type": "stream",
     "text": [
      "     Name    Course  Address\n",
      "0  Aditya  Computer  Bhandup\n",
      "<class 'pandas.core.frame.DataFrame'>\n"
     ]
    }
   ],
   "source": [
    "csv_2 = pd.read_csv(\"C:\\\\Users\\\\Aditya\\\\OneDrive\\\\Desktop\\\\demo1.csv\",nrows=1)\n",
    "\n",
    "print(csv_2)"
   ]
  },
  {
   "cell_type": "code",
   "execution_count": 17,
   "id": "d819f0cc-3226-48b2-8ed4-7a9830e23206",
   "metadata": {},
   "outputs": [
    {
     "name": "stdout",
     "output_type": "stream",
     "text": [
      "      Name   Address\n",
      "0   Aditya   Bhandup\n",
      "1  Pranita     Parel\n",
      "2     Evan     Dadar\n",
      "3     Kris   Matunga\n",
      "4   Hritik     Thane\n",
      "5      Sam   Dahisar\n",
      "6    Rajes     Kurla\n",
      "7   Aditya  Borivali\n",
      "8     Kris     Dadar\n",
      "9     Evan    Bandra\n"
     ]
    }
   ],
   "source": [
    "csv_3 = pd.read_csv(\"C:\\\\Users\\\\Aditya\\\\OneDrive\\\\Desktop\\\\demo1.csv\",usecols=[\"Name\",\"Address\"])\n",
    "\n",
    "print(csv_3)"
   ]
  },
  {
   "cell_type": "code",
   "execution_count": 20,
   "id": "2a0e054f-5f43-40a1-8455-e13734588308",
   "metadata": {},
   "outputs": [
    {
     "name": "stdout",
     "output_type": "stream",
     "text": [
      "      Name   Address\n",
      "0   Aditya   Bhandup\n",
      "1  Pranita     Parel\n",
      "2     Evan     Dadar\n",
      "3     Kris   Matunga\n",
      "4   Hritik     Thane\n",
      "5      Sam   Dahisar\n",
      "6    Rajes     Kurla\n",
      "7   Aditya  Borivali\n",
      "8     Kris     Dadar\n",
      "9     Evan    Bandra\n"
     ]
    }
   ],
   "source": [
    "csv_4 = pd.read_csv(\"C:\\\\Users\\\\Aditya\\\\OneDrive\\\\Desktop\\\\demo1.csv\",usecols=[0,2])\n",
    "\n",
    "print(csv_4)"
   ]
  },
  {
   "cell_type": "code",
   "execution_count": 29,
   "id": "d42f5d60-23bc-4dd4-80e6-83c1754c663c",
   "metadata": {},
   "outputs": [
    {
     "name": "stdout",
     "output_type": "stream",
     "text": [
      "     Name      Course   Address\n",
      "0    Evan       Civil     Dadar\n",
      "1    Kris   Computer    Matunga\n",
      "2  Hritik       Civil     Thane\n",
      "3     Sam  Electrical   Dahisar\n",
      "4   Rajes    Computer     Kurla\n",
      "5  Aditya       Civil  Borivali\n",
      "6    Kris  Electrical     Dadar\n",
      "7    Evan    Computer    Bandra\n"
     ]
    }
   ],
   "source": [
    "csv_5 = pd.read_csv(\"C:\\\\Users\\\\Aditya\\\\OneDrive\\\\Desktop\\\\demo1.csv\",skiprows=[1,2])\n",
    "\n",
    "print(csv_5)"
   ]
  },
  {
   "cell_type": "code",
   "execution_count": 37,
   "id": "fec2fecf-491b-402b-86ed-1271995af91d",
   "metadata": {},
   "outputs": [
    {
     "name": "stdout",
     "output_type": "stream",
     "text": [
      "  Pranita  Electrical     Parel\n",
      "0    Evan       Civil     Dadar\n",
      "1    Kris   Computer    Matunga\n",
      "2  Hritik       Civil     Thane\n",
      "3     Sam  Electrical   Dahisar\n",
      "4   Rajes    Computer     Kurla\n",
      "5  Aditya       Civil  Borivali\n",
      "6    Kris  Electrical     Dadar\n",
      "7    Evan    Computer    Bandra\n"
     ]
    }
   ],
   "source": [
    "csv_6 = pd.read_csv(\"C:\\\\Users\\\\Aditya\\\\OneDrive\\\\Desktop\\\\demo1.csv\",header = 2)\n",
    "\n",
    "print(csv_6)"
   ]
  },
  {
   "cell_type": "code",
   "execution_count": 53,
   "id": "580c0780-0bb3-4238-808b-2b554129e68b",
   "metadata": {},
   "outputs": [
    {
     "name": "stdout",
     "output_type": "stream",
     "text": [
      "       col1        col2      col3\n",
      "0      Name      Course   Address\n",
      "1    Aditya    Computer   Bhandup\n",
      "2   Pranita  Electrical     Parel\n",
      "3      Evan       Civil     Dadar\n",
      "4      Kris   Computer    Matunga\n",
      "5    Hritik       Civil     Thane\n",
      "6       Sam  Electrical   Dahisar\n",
      "7     Rajes    Computer     Kurla\n",
      "8    Aditya       Civil  Borivali\n",
      "9      Kris  Electrical     Dadar\n",
      "10     Evan    Computer    Bandra\n"
     ]
    }
   ],
   "source": [
    "csv_6 = pd.read_csv(\"C:\\\\Users\\\\Aditya\\\\OneDrive\\\\Desktop\\\\demo1.csv\",names=[\"col1\",\"col2\",\"col3\"])\n",
    "\n",
    "print(csv_6)"
   ]
  },
  {
   "cell_type": "code",
   "execution_count": 55,
   "id": "66ec6b28-13a6-4fcc-ae69-96a9d3ec03a9",
   "metadata": {},
   "outputs": [
    {
     "name": "stdout",
     "output_type": "stream",
     "text": [
      "          0           1         2\n",
      "0      Name      Course   Address\n",
      "1    Aditya    Computer   Bhandup\n",
      "2   Pranita  Electrical     Parel\n",
      "3      Evan       Civil     Dadar\n",
      "4      Kris   Computer    Matunga\n",
      "5    Hritik       Civil     Thane\n",
      "6       Sam  Electrical   Dahisar\n",
      "7     Rajes    Computer     Kurla\n",
      "8    Aditya       Civil  Borivali\n",
      "9      Kris  Electrical     Dadar\n",
      "10     Evan    Computer    Bandra\n"
     ]
    }
   ],
   "source": [
    "csv_7 = pd.read_csv(\"C:\\\\Users\\\\Aditya\\\\OneDrive\\\\Desktop\\\\demo1.csv\", header = None)\n",
    "\n",
    "print(csv_7)"
   ]
  },
  {
   "cell_type": "code",
   "execution_count": null,
   "id": "74fb804a-6f26-4449-a0b4-ee6b8bdae0ef",
   "metadata": {},
   "outputs": [],
   "source": []
  }
 ],
 "metadata": {
  "kernelspec": {
   "display_name": "Python 3 (ipykernel)",
   "language": "python",
   "name": "python3"
  },
  "language_info": {
   "codemirror_mode": {
    "name": "ipython",
    "version": 3
   },
   "file_extension": ".py",
   "mimetype": "text/x-python",
   "name": "python",
   "nbconvert_exporter": "python",
   "pygments_lexer": "ipython3",
   "version": "3.12.4"
  }
 },
 "nbformat": 4,
 "nbformat_minor": 5
}
