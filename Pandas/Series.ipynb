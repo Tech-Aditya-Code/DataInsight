{
 "cells": [
  {
   "cell_type": "markdown",
   "id": "f9127149-7eba-498c-8d9e-1a2c6053472c",
   "metadata": {},
   "source": [
    "***Series***"
   ]
  },
  {
   "cell_type": "code",
   "execution_count": 13,
   "id": "937f411f-ed46-491f-885b-0464e200df6e",
   "metadata": {},
   "outputs": [
    {
     "name": "stdout",
     "output_type": "stream",
     "text": [
      "a    3.0\n",
      "s    4.0\n",
      "d    5.0\n",
      "f    6.0\n",
      "Name: Python, dtype: float64\n",
      "<class 'pandas.core.series.Series'>\n",
      "5.0\n"
     ]
    },
    {
     "name": "stderr",
     "output_type": "stream",
     "text": [
      "C:\\Users\\Aditya\\AppData\\Local\\Temp\\ipykernel_8356\\474809551.py:9: FutureWarning: Series.__getitem__ treating keys as positions is deprecated. In a future version, integer keys will always be treated as labels (consistent with DataFrame behavior). To access a value by position, use `ser.iloc[pos]`\n",
      "  print(var[2])\n"
     ]
    }
   ],
   "source": [
    "import pandas as pd\n",
    "\n",
    "x = [3,4,5,6]\n",
    "\n",
    "var = pd.Series(x,index=['a','s','d','f'],dtype=\"float\",name=\"Python\")\n",
    "\n",
    "print(var)\n",
    "print(type(var))\n",
    "print(var[2])"
   ]
  },
  {
   "cell_type": "code",
   "execution_count": 19,
   "id": "96a11d1e-8c3a-402b-a04c-7b3d6d1907f3",
   "metadata": {},
   "outputs": [
    {
     "name": "stdout",
     "output_type": "stream",
     "text": [
      "name          [python, c, c++, java]\n",
      "popularity          [12, 13, 14, 15]\n",
      "rank                    [1, 4, 3, 2]\n",
      "dtype: object\n"
     ]
    }
   ],
   "source": [
    "dic = {\"name\" : ['python','c','c++','java'],\"popularity\" : [12,13,14,15],\"rank\" : [1,4,3,2]}\n",
    "var1= pd.Series(dic)\n",
    "print(var1)"
   ]
  },
  {
   "cell_type": "code",
   "execution_count": 25,
   "id": "86802695-ff56-4947-8e00-932c5c5071a1",
   "metadata": {},
   "outputs": [
    {
     "name": "stdout",
     "output_type": "stream",
     "text": [
      "1    12\n",
      "2    12\n",
      "3    12\n",
      "4    12\n",
      "5    12\n",
      "6    12\n",
      "7    12\n",
      "dtype: int64\n",
      "<class 'pandas.core.series.Series'>\n"
     ]
    }
   ],
   "source": [
    "s = pd.Series(12,index=[1,2,3,4,5,6,7])\n",
    "print(s)\n",
    "print(type(s))"
   ]
  },
  {
   "cell_type": "code",
   "execution_count": 27,
   "id": "f7298d28-00d8-496f-abdc-36bc91251a04",
   "metadata": {},
   "outputs": [
    {
     "name": "stdout",
     "output_type": "stream",
     "text": [
      "1    24.0\n",
      "2    24.0\n",
      "3    24.0\n",
      "4    24.0\n",
      "5     NaN\n",
      "6     NaN\n",
      "7     NaN\n",
      "dtype: float64\n"
     ]
    }
   ],
   "source": [
    "s1 = pd.Series(12,index=[1,2,3,4,5,6,7])\n",
    "s2 = pd.Series(12,index=[1,2,3,4])\n",
    "\n",
    "print(s1 + s2)"
   ]
  },
  {
   "cell_type": "code",
   "execution_count": null,
   "id": "8a62581d-70d6-4406-9a47-676d1a699792",
   "metadata": {},
   "outputs": [],
   "source": []
  }
 ],
 "metadata": {
  "kernelspec": {
   "display_name": "Python 3 (ipykernel)",
   "language": "python",
   "name": "python3"
  },
  "language_info": {
   "codemirror_mode": {
    "name": "ipython",
    "version": 3
   },
   "file_extension": ".py",
   "mimetype": "text/x-python",
   "name": "python",
   "nbconvert_exporter": "python",
   "pygments_lexer": "ipython3",
   "version": "3.12.4"
  }
 },
 "nbformat": 4,
 "nbformat_minor": 5
}
