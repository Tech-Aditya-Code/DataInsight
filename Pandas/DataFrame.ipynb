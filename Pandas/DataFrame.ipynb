{
 "cells": [
  {
   "cell_type": "markdown",
   "id": "826d20f0-f3aa-4ec2-a291-7b36f38f8a8c",
   "metadata": {},
   "source": [
    "***DataFrame***"
   ]
  },
  {
   "cell_type": "code",
   "execution_count": 7,
   "id": "2cf1e820-ff11-4d7b-a298-4eef7a3e2e24",
   "metadata": {},
   "outputs": [
    {
     "name": "stdout",
     "output_type": "stream",
     "text": [
      "   0\n",
      "0  1\n",
      "1  2\n",
      "2  3\n",
      "3  4\n",
      "4  5\n",
      "5  6\n"
     ]
    }
   ],
   "source": [
    "import pandas as pd\n",
    "\n",
    "l = [1,2,3,4,5,6]\n",
    "\n",
    "var = pd.DataFrame(l)\n",
    "print(var)\n",
    "print(type(var))"
   ]
  },
  {
   "cell_type": "code",
   "execution_count": 26,
   "id": "001f9d8e-52a1-4e31-aab5-e5f8d61f4e08",
   "metadata": {},
   "outputs": [
    {
     "name": "stdout",
     "output_type": "stream",
     "text": [
      "    a  s  d  1\n",
      "0   1  1  1  1\n",
      "1   2  2  2  2\n",
      "2   3  4  3  3\n",
      "3  14  5  4  4\n",
      "4   5  6  5  5\n",
      "<class 'pandas.core.frame.DataFrame'>\n",
      "14\n"
     ]
    }
   ],
   "source": [
    "d = {\"a\" : [1,2,3,14,5], \"s\" : [1,2,4,5,6], \"d\" : [1,2,3,4,5], 1 : [1,2,3,4,5]}\n",
    "\n",
    "var1 =  pd.DataFrame(d)\n",
    "\n",
    "print(var1)\n",
    "print(type(var1))\n",
    "print(var1[\"a\"][3])"
   ]
  },
  {
   "cell_type": "code",
   "execution_count": 29,
   "id": "0423313b-1736-4e18-814b-cef1f5303a66",
   "metadata": {},
   "outputs": [
    {
     "name": "stdout",
     "output_type": "stream",
     "text": [
      "    0   1   2   3   4\n",
      "0   1   2   3   4   5\n",
      "1  11  12  13  14  15\n",
      "<class 'pandas.core.frame.DataFrame'>\n"
     ]
    }
   ],
   "source": [
    "list_1 = [[1,2,3,4,5],[11,12,13,14,15]]\n",
    "\n",
    "var2 =  pd.DataFrame(list_1)\n",
    "\n",
    "print(var2)\n",
    "print(type(var2))"
   ]
  },
  {
   "cell_type": "code",
   "execution_count": 30,
   "id": "d75f9d10-087a-42ae-9146-2e2f95c0136b",
   "metadata": {},
   "outputs": [
    {
     "name": "stdout",
     "output_type": "stream",
     "text": [
      "   s  r\n",
      "0  1  1\n",
      "1  2  2\n",
      "2  3  3\n",
      "3  4  4\n",
      "<class 'pandas.core.frame.DataFrame'>\n"
     ]
    }
   ],
   "source": [
    "sr = {\"s\" : pd.Series([1,2,3,4]), \"r\" : pd.Series([1,2,3,4])}\n",
    "\n",
    "\n",
    "var3 =  pd.DataFrame(sr)\n",
    "\n",
    "print(var3)\n",
    "print(type(var3))"
   ]
  },
  {
   "cell_type": "code",
   "execution_count": null,
   "id": "a79fcb05-58c2-4366-88e9-3adedec4201e",
   "metadata": {},
   "outputs": [],
   "source": []
  }
 ],
 "metadata": {
  "kernelspec": {
   "display_name": "Python 3 (ipykernel)",
   "language": "python",
   "name": "python3"
  },
  "language_info": {
   "codemirror_mode": {
    "name": "ipython",
    "version": 3
   },
   "file_extension": ".py",
   "mimetype": "text/x-python",
   "name": "python",
   "nbconvert_exporter": "python",
   "pygments_lexer": "ipython3",
   "version": "3.12.4"
  }
 },
 "nbformat": 4,
 "nbformat_minor": 5
}
