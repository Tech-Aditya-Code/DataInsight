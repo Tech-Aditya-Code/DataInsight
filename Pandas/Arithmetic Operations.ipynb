{
 "cells": [
  {
   "cell_type": "markdown",
   "id": "bbb8f260-8523-4117-a5f3-c11d8fdea543",
   "metadata": {},
   "source": [
    "***Arithmetic Operations***"
   ]
  },
  {
   "cell_type": "code",
   "execution_count": 6,
   "id": "019334a3-dbc0-4e14-955d-732e4acbee40",
   "metadata": {},
   "outputs": [
    {
     "name": "stdout",
     "output_type": "stream",
     "text": [
      "   A  B\n",
      "0  1  5\n",
      "1  2  6\n",
      "2  3  7\n",
      "3  4  8\n"
     ]
    }
   ],
   "source": [
    "import pandas as pd\n",
    "\n",
    "var = pd.DataFrame({\"A\" : [1,2,3,4],\"B\" : [5,6,7,8]})\n",
    "\n",
    "print(var)"
   ]
  },
  {
   "cell_type": "code",
   "execution_count": 10,
   "id": "a35ddf62-e755-49ce-9948-7e1111bf10d5",
   "metadata": {},
   "outputs": [
    {
     "name": "stdout",
     "output_type": "stream",
     "text": [
      "   A  B   C\n",
      "0  1  5   6\n",
      "1  2  6   8\n",
      "2  3  7  10\n",
      "3  4  8  12\n"
     ]
    }
   ],
   "source": [
    "var[\"C\"] = var[\"A\"] + var[\"B\"]\n",
    "\n",
    "print(var)"
   ]
  },
  {
   "cell_type": "code",
   "execution_count": 11,
   "id": "1e60ca40-9f12-4582-99f4-095e5f7f683d",
   "metadata": {},
   "outputs": [
    {
     "name": "stdout",
     "output_type": "stream",
     "text": [
      "   A  B  C\n",
      "0  1  5 -4\n",
      "1  2  6 -4\n",
      "2  3  7 -4\n",
      "3  4  8 -4\n"
     ]
    }
   ],
   "source": [
    "var[\"C\"] = var[\"A\"] - var[\"B\"]\n",
    "\n",
    "print(var)"
   ]
  },
  {
   "cell_type": "code",
   "execution_count": 12,
   "id": "d3132679-dd7e-4da2-b6ce-23aaae102ead",
   "metadata": {},
   "outputs": [
    {
     "name": "stdout",
     "output_type": "stream",
     "text": [
      "   A  B   C\n",
      "0  1  5   5\n",
      "1  2  6  12\n",
      "2  3  7  21\n",
      "3  4  8  32\n"
     ]
    }
   ],
   "source": [
    "var[\"C\"] = var[\"A\"] * var[\"B\"]\n",
    "\n",
    "print(var)"
   ]
  },
  {
   "cell_type": "code",
   "execution_count": 13,
   "id": "ab8ba21d-1bd3-4490-91a2-51392e883b5a",
   "metadata": {},
   "outputs": [
    {
     "name": "stdout",
     "output_type": "stream",
     "text": [
      "   A  B         C\n",
      "0  1  5  0.200000\n",
      "1  2  6  0.333333\n",
      "2  3  7  0.428571\n",
      "3  4  8  0.500000\n"
     ]
    }
   ],
   "source": [
    "var[\"C\"] = var[\"A\"] / var[\"B\"]\n",
    "\n",
    "print(var)"
   ]
  },
  {
   "cell_type": "code",
   "execution_count": 14,
   "id": "891b5293-9aab-4e3a-bce4-18ae0203ced9",
   "metadata": {},
   "outputs": [
    {
     "name": "stdout",
     "output_type": "stream",
     "text": [
      "    A   B\n",
      "0  10  15\n",
      "1  20  16\n",
      "2  30  17\n",
      "3  40  18\n"
     ]
    }
   ],
   "source": [
    "var1 = pd.DataFrame({\"A\" : [10,20,30,40],\"B\" : [15,16,17,18]})\n",
    "\n",
    "print(var1)"
   ]
  },
  {
   "cell_type": "code",
   "execution_count": 15,
   "id": "a6b00c93-ae51-453e-afe8-fdcfe8ccb131",
   "metadata": {},
   "outputs": [
    {
     "name": "stdout",
     "output_type": "stream",
     "text": [
      "    A   B  Python\n",
      "0  10  15    True\n",
      "1  20  16    True\n",
      "2  30  17   False\n",
      "3  40  18   False\n"
     ]
    }
   ],
   "source": [
    "var1[\"Python\"] = var1[\"A\"] <= 20\n",
    "\n",
    "print(var1)"
   ]
  },
  {
   "cell_type": "code",
   "execution_count": null,
   "id": "8353e0e9-8ecf-4c50-a060-c114a97147a9",
   "metadata": {},
   "outputs": [],
   "source": []
  }
 ],
 "metadata": {
  "kernelspec": {
   "display_name": "Python 3 (ipykernel)",
   "language": "python",
   "name": "python3"
  },
  "language_info": {
   "codemirror_mode": {
    "name": "ipython",
    "version": 3
   },
   "file_extension": ".py",
   "mimetype": "text/x-python",
   "name": "python",
   "nbconvert_exporter": "python",
   "pygments_lexer": "ipython3",
   "version": "3.12.4"
  }
 },
 "nbformat": 4,
 "nbformat_minor": 5
}
