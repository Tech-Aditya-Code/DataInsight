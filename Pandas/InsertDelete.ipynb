{
 "cells": [
  {
   "cell_type": "code",
   "execution_count": 67,
   "id": "24a50215-e4cd-4e45-97b2-a685850b8e5d",
   "metadata": {},
   "outputs": [
    {
     "name": "stdout",
     "output_type": "stream",
     "text": [
      "   A  B\n",
      "0  1  9\n",
      "1  2  8\n",
      "2  3  7\n",
      "3  4  6\n",
      "4  5  5\n"
     ]
    }
   ],
   "source": [
    "import pandas as pd\n",
    "\n",
    "var = pd.DataFrame({\"A\" : [1,2,3,4,5], \"B\" : [9,8,7,6,5]})\n",
    "\n",
    "print(var)"
   ]
  },
  {
   "cell_type": "code",
   "execution_count": 68,
   "id": "2c1e975f-3347-4607-8439-b0cd22c07181",
   "metadata": {},
   "outputs": [
    {
     "name": "stdout",
     "output_type": "stream",
     "text": [
      "   A  Python  B\n",
      "0  1       1  9\n",
      "1  2       2  8\n",
      "2  3       3  7\n",
      "3  4       4  6\n",
      "4  5       5  5\n"
     ]
    }
   ],
   "source": [
    "var.insert(1,\"Python\",var[\"A\"])\n",
    "\n",
    "print(var)"
   ]
  },
  {
   "cell_type": "code",
   "execution_count": 69,
   "id": "dc2b72bb-9947-4500-8f92-fd81cf248140",
   "metadata": {},
   "outputs": [
    {
     "name": "stdout",
     "output_type": "stream",
     "text": [
      "   A  Python_1  Python  B\n",
      "0  1        11       1  9\n",
      "1  2        12       2  8\n",
      "2  3        13       3  7\n",
      "3  4        14       4  6\n",
      "4  5        15       5  5\n"
     ]
    }
   ],
   "source": [
    "var.insert(1,\"Python_1\",[11,12,13,14,15])\n",
    "\n",
    "print(var)"
   ]
  },
  {
   "cell_type": "code",
   "execution_count": 71,
   "id": "fa84972f-b52c-4eea-928c-71bfa37961fc",
   "metadata": {},
   "outputs": [
    {
     "name": "stdout",
     "output_type": "stream",
     "text": [
      "   A  Python_1  Python  B  Only\n",
      "0  1        11       1  9   1.0\n",
      "1  2        12       2  8   2.0\n",
      "2  3        13       3  7   3.0\n",
      "3  4        14       4  6   NaN\n",
      "4  5        15       5  5   NaN\n"
     ]
    }
   ],
   "source": [
    "var[\"Only\"] = var[\"A\"][:3]\n",
    "\n",
    "print(var)"
   ]
  },
  {
   "cell_type": "code",
   "execution_count": 65,
   "id": "25a1e4d6-86a7-4673-aa7f-6e295fbae7f4",
   "metadata": {},
   "outputs": [
    {
     "name": "stdout",
     "output_type": "stream",
     "text": [
      "   Python_1  Python  B  Only\n",
      "0        11       1  9   1.0\n",
      "1        12       2  8   2.0\n",
      "2        13       3  7   3.0\n",
      "3        14       4  6   NaN\n",
      "4        15       5  5   NaN\n"
     ]
    }
   ],
   "source": [
    "var.pop(\"A\")\n",
    "\n",
    "print(var)"
   ]
  },
  {
   "cell_type": "code",
   "execution_count": 66,
   "id": "37486a62-9776-480b-b126-fb3ea6852911",
   "metadata": {},
   "outputs": [
    {
     "name": "stdout",
     "output_type": "stream",
     "text": [
      "   Python_1  Python  Only\n",
      "0        11       1   1.0\n",
      "1        12       2   2.0\n",
      "2        13       3   3.0\n",
      "3        14       4   NaN\n",
      "4        15       5   NaN\n"
     ]
    }
   ],
   "source": [
    "del var[\"B\"]\n",
    "\n",
    "print(var)"
   ]
  },
  {
   "cell_type": "code",
   "execution_count": null,
   "id": "30676d31-1b16-4931-8800-37dff08a10a7",
   "metadata": {},
   "outputs": [],
   "source": []
  }
 ],
 "metadata": {
  "kernelspec": {
   "display_name": "Python 3 (ipykernel)",
   "language": "python",
   "name": "python3"
  },
  "language_info": {
   "codemirror_mode": {
    "name": "ipython",
    "version": 3
   },
   "file_extension": ".py",
   "mimetype": "text/x-python",
   "name": "python",
   "nbconvert_exporter": "python",
   "pygments_lexer": "ipython3",
   "version": "3.12.4"
  }
 },
 "nbformat": 4,
 "nbformat_minor": 5
}
